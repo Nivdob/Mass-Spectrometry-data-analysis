{
 "cells": [
  {
   "cell_type": "code",
   "execution_count": 1,
   "metadata": {},
   "outputs": [],
   "source": [
    "import pandas as pd\n",
    "import numpy as np\n",
    "from pathlib import Path\n",
    "import re"
   ]
  },
  {
   "cell_type": "markdown",
   "metadata": {},
   "source": [
    "## Define methods for merging the data"
   ]
  },
  {
   "cell_type": "code",
   "execution_count": 2,
   "metadata": {},
   "outputs": [],
   "source": [
    "def newdatabase():\n",
    "    newdatabase = pd.DataFrame({'Description':[], 'Protein\\nDB number':[],\"# AA's in\\nprotein\":[]})\n",
    "    newdatabase.set_index('Description',inplace=True)\n",
    "    return newdatabase"
   ]
  },
  {
   "cell_type": "markdown",
   "metadata": {},
   "source": [
    "### Open a mass spec excell file and getting the protein sheet"
   ]
  },
  {
   "cell_type": "code",
   "execution_count": 3,
   "metadata": {},
   "outputs": [],
   "source": [
    "def getproteins(xlname):\n",
    "    xl_file=pd.ExcelFile(xlname)\n",
    "    proteins=xl_file.parse(\"Proteins\")\n",
    "    return proteins"
   ]
  },
  {
   "cell_type": "markdown",
   "metadata": {},
   "source": [
    "### Split gene Description into different columns"
   ]
  },
  {
   "cell_type": "code",
   "execution_count": 4,
   "metadata": {},
   "outputs": [],
   "source": [
    "def Split_Description(merged):\n",
    "    \n",
    "    merged.index = merged.index.astype(str)\n",
    "\n",
    "    merged['Uniprot']=merged.index.str.extract(r'(\\|.+\\|)', expand=False).str.strip('|')\n",
    "    merged['uniprotgene']=merged.index.str.extract(\"(\\|[^/|\\s]+\\s)\", expand=False).str.strip('|')\n",
    "    merged['Protein']=merged.index.str.extract(\"(\\s.+OS)\", expand=False).str.strip()\n",
    "    merged['Gene']=merged.index.str.extract(\"(GN=[\\d|\\w]+)\", expand=False).str.replace('GN=','')\n",
    "    merged['ugene']=merged.uniprotgene.str.replace('_HUMAN','')\n",
    "    return merged"
   ]
  },
  {
   "cell_type": "markdown",
   "metadata": {},
   "source": [
    "### Extract protein names from all the xclx files in the directory, remove gaps, and make one list"
   ]
  },
  {
   "cell_type": "code",
   "execution_count": 5,
   "metadata": {},
   "outputs": [],
   "source": [
    "def make_name_list():\n",
    "    merged=newdatabase()\n",
    "    path = Path()\n",
    "     \n",
    "    for file in path.glob(\"*_Byonic.xlsx\"):\n",
    "        print(file)\n",
    "        proteins = getproteins(file)\n",
    "        proteins.set_index('Description', inplace=True)\n",
    "        # Remove gaps\n",
    "        nogaps=proteins.dropna(subset=[\"# of\\nspectra\"])\n",
    "\n",
    "#         get the name of the condition\n",
    "        start=file.name.find('UCSF')+10\n",
    "        end=file.name.find('.raw')\n",
    "        name_clean=file.name[start:end]\n",
    "        \n",
    "#         rename the spectre column\n",
    "        nogaps.rename(columns={\"# of\\nspectra\":name_clean},inplace=True)\n",
    "    \n",
    "#         Add values for each specific condition + for protein nDB and #Amino acids of the protein     \n",
    "        merged=pd.merge(merged,nogaps[[name_clean]], on=[\"Description\"], how='outer')\n",
    "        merged.update(nogaps[['Protein\\nDB number',\"# AA's in\\nprotein\"]])\n",
    "\n",
    "\n",
    "    merged= Split_Description(merged)\n",
    "    return merged\n",
    "    "
   ]
  },
  {
   "cell_type": "markdown",
   "metadata": {},
   "source": [
    "### Combining the data together using the functions above"
   ]
  },
  {
   "cell_type": "code",
   "execution_count": 6,
   "metadata": {
    "scrolled": true
   },
   "outputs": [
    {
     "name": "stdout",
     "output_type": "stream",
     "text": [
      "160920_SRamundo_Niv_Walter_UCSF_6023_WT_0.raw_20161005_Byonic.xlsx\n"
     ]
    },
    {
     "name": "stderr",
     "output_type": "stream",
     "text": [
      "C:\\Users\\nivdo\\anaconda3\\lib\\site-packages\\pandas\\core\\frame.py:4133: SettingWithCopyWarning: \n",
      "A value is trying to be set on a copy of a slice from a DataFrame\n",
      "\n",
      "See the caveats in the documentation: https://pandas.pydata.org/pandas-docs/stable/user_guide/indexing.html#returning-a-view-versus-a-copy\n",
      "  errors=errors,\n"
     ]
    },
    {
     "name": "stdout",
     "output_type": "stream",
     "text": [
      "160920_SRamundo_Niv_Walter_UCSF_6023_WT_40.raw_20161005_Byonic.xlsx\n",
      "160920_SRamundo_Niv_Walter_UCSF_6023_WT_80.raw_20161005_Byonic.xlsx\n"
     ]
    }
   ],
   "source": [
    "merged=make_name_list()"
   ]
  },
  {
   "cell_type": "code",
   "execution_count": 7,
   "metadata": {},
   "outputs": [],
   "source": [
    "# Add 0s instead of NaN\n",
    "merged=merged.fillna(0)"
   ]
  },
  {
   "cell_type": "code",
   "execution_count": 8,
   "metadata": {},
   "outputs": [
    {
     "data": {
      "text/html": [
       "<div>\n",
       "<style scoped>\n",
       "    .dataframe tbody tr th:only-of-type {\n",
       "        vertical-align: middle;\n",
       "    }\n",
       "\n",
       "    .dataframe tbody tr th {\n",
       "        vertical-align: top;\n",
       "    }\n",
       "\n",
       "    .dataframe thead th {\n",
       "        text-align: right;\n",
       "    }\n",
       "</style>\n",
       "<table border=\"1\" class=\"dataframe\">\n",
       "  <thead>\n",
       "    <tr style=\"text-align: right;\">\n",
       "      <th></th>\n",
       "      <th>Protein\\nDB number</th>\n",
       "      <th># AA's in\\nprotein</th>\n",
       "      <th>WT_0</th>\n",
       "      <th>WT_40</th>\n",
       "      <th>WT_80</th>\n",
       "      <th>Uniprot</th>\n",
       "      <th>uniprotgene</th>\n",
       "      <th>Protein</th>\n",
       "      <th>Gene</th>\n",
       "      <th>ugene</th>\n",
       "    </tr>\n",
       "    <tr>\n",
       "      <th>Description</th>\n",
       "      <th></th>\n",
       "      <th></th>\n",
       "      <th></th>\n",
       "      <th></th>\n",
       "      <th></th>\n",
       "      <th></th>\n",
       "      <th></th>\n",
       "      <th></th>\n",
       "      <th></th>\n",
       "      <th></th>\n",
       "    </tr>\n",
       "  </thead>\n",
       "  <tbody>\n",
       "    <tr>\n",
       "      <th>&gt;sp|P04264|K2C1_HUMAN Keratin, type II cytoskeletal 1 OS=Homo sapiens GN=KRT1 PE=1 SV=6</th>\n",
       "      <td>17682.0</td>\n",
       "      <td>644.0</td>\n",
       "      <td>486.0</td>\n",
       "      <td>244.0</td>\n",
       "      <td>119.0</td>\n",
       "      <td>P04264</td>\n",
       "      <td>K2C1_HUMAN</td>\n",
       "      <td>Keratin, type II cytoskeletal 1 OS</td>\n",
       "      <td>KRT1</td>\n",
       "      <td>K2C1</td>\n",
       "    </tr>\n",
       "    <tr>\n",
       "      <th>&gt;sp|P13645|K1C10_HUMAN Keratin, type I cytoskeletal 10 OS=Homo sapiens GN=KRT10 PE=1 SV=6</th>\n",
       "      <td>18270.0</td>\n",
       "      <td>584.0</td>\n",
       "      <td>251.0</td>\n",
       "      <td>253.0</td>\n",
       "      <td>172.0</td>\n",
       "      <td>P13645</td>\n",
       "      <td>K1C10_HUMAN</td>\n",
       "      <td>Keratin, type I cytoskeletal 10 OS</td>\n",
       "      <td>KRT10</td>\n",
       "      <td>K1C10</td>\n",
       "    </tr>\n",
       "    <tr>\n",
       "      <th>&gt;sp|K1C9_HUMAN|(Common contaminant protein)</th>\n",
       "      <td>175619.0</td>\n",
       "      <td>623.0</td>\n",
       "      <td>227.0</td>\n",
       "      <td>0.0</td>\n",
       "      <td>0.0</td>\n",
       "      <td>K1C9_HUMAN</td>\n",
       "      <td>(Common</td>\n",
       "      <td>0</td>\n",
       "      <td>0</td>\n",
       "      <td>(Common</td>\n",
       "    </tr>\n",
       "    <tr>\n",
       "      <th>&gt;sp|P35908|K22E_HUMAN Keratin, type II cytoskeletal 2 epidermal OS=Homo sapiens GN=KRT2 PE=1 SV=2</th>\n",
       "      <td>17681.0</td>\n",
       "      <td>639.0</td>\n",
       "      <td>119.0</td>\n",
       "      <td>106.0</td>\n",
       "      <td>80.0</td>\n",
       "      <td>P35908</td>\n",
       "      <td>K22E_HUMAN</td>\n",
       "      <td>Keratin, type II cytoskeletal 2 epidermal OS</td>\n",
       "      <td>KRT2</td>\n",
       "      <td>K22E</td>\n",
       "    </tr>\n",
       "    <tr>\n",
       "      <th>&gt;sp|KRHB4_HUMAN|(Common contaminant protein)</th>\n",
       "      <td>175648.0</td>\n",
       "      <td>600.0</td>\n",
       "      <td>94.0</td>\n",
       "      <td>0.0</td>\n",
       "      <td>0.0</td>\n",
       "      <td>KRHB4_HUMAN</td>\n",
       "      <td>(Common</td>\n",
       "      <td>0</td>\n",
       "      <td>0</td>\n",
       "      <td>(Common</td>\n",
       "    </tr>\n",
       "  </tbody>\n",
       "</table>\n",
       "</div>"
      ],
      "text/plain": [
       "                                                    Protein\\nDB number  \\\n",
       "Description                                                              \n",
       ">sp|P04264|K2C1_HUMAN Keratin, type II cytoskel...             17682.0   \n",
       ">sp|P13645|K1C10_HUMAN Keratin, type I cytoskel...             18270.0   \n",
       ">sp|K1C9_HUMAN|(Common contaminant protein)                   175619.0   \n",
       ">sp|P35908|K22E_HUMAN Keratin, type II cytoskel...             17681.0   \n",
       ">sp|KRHB4_HUMAN|(Common contaminant protein)                  175648.0   \n",
       "\n",
       "                                                    # AA's in\\nprotein   WT_0  \\\n",
       "Description                                                                     \n",
       ">sp|P04264|K2C1_HUMAN Keratin, type II cytoskel...               644.0  486.0   \n",
       ">sp|P13645|K1C10_HUMAN Keratin, type I cytoskel...               584.0  251.0   \n",
       ">sp|K1C9_HUMAN|(Common contaminant protein)                      623.0  227.0   \n",
       ">sp|P35908|K22E_HUMAN Keratin, type II cytoskel...               639.0  119.0   \n",
       ">sp|KRHB4_HUMAN|(Common contaminant protein)                     600.0   94.0   \n",
       "\n",
       "                                                    WT_40  WT_80      Uniprot  \\\n",
       "Description                                                                     \n",
       ">sp|P04264|K2C1_HUMAN Keratin, type II cytoskel...  244.0  119.0       P04264   \n",
       ">sp|P13645|K1C10_HUMAN Keratin, type I cytoskel...  253.0  172.0       P13645   \n",
       ">sp|K1C9_HUMAN|(Common contaminant protein)           0.0    0.0   K1C9_HUMAN   \n",
       ">sp|P35908|K22E_HUMAN Keratin, type II cytoskel...  106.0   80.0       P35908   \n",
       ">sp|KRHB4_HUMAN|(Common contaminant protein)          0.0    0.0  KRHB4_HUMAN   \n",
       "\n",
       "                                                     uniprotgene  \\\n",
       "Description                                                        \n",
       ">sp|P04264|K2C1_HUMAN Keratin, type II cytoskel...   K2C1_HUMAN    \n",
       ">sp|P13645|K1C10_HUMAN Keratin, type I cytoskel...  K1C10_HUMAN    \n",
       ">sp|K1C9_HUMAN|(Common contaminant protein)             (Common    \n",
       ">sp|P35908|K22E_HUMAN Keratin, type II cytoskel...   K22E_HUMAN    \n",
       ">sp|KRHB4_HUMAN|(Common contaminant protein)            (Common    \n",
       "\n",
       "                                                                                         Protein  \\\n",
       "Description                                                                                        \n",
       ">sp|P04264|K2C1_HUMAN Keratin, type II cytoskel...            Keratin, type II cytoskeletal 1 OS   \n",
       ">sp|P13645|K1C10_HUMAN Keratin, type I cytoskel...            Keratin, type I cytoskeletal 10 OS   \n",
       ">sp|K1C9_HUMAN|(Common contaminant protein)                                                    0   \n",
       ">sp|P35908|K22E_HUMAN Keratin, type II cytoskel...  Keratin, type II cytoskeletal 2 epidermal OS   \n",
       ">sp|KRHB4_HUMAN|(Common contaminant protein)                                                   0   \n",
       "\n",
       "                                                     Gene     ugene  \n",
       "Description                                                          \n",
       ">sp|P04264|K2C1_HUMAN Keratin, type II cytoskel...   KRT1     K2C1   \n",
       ">sp|P13645|K1C10_HUMAN Keratin, type I cytoskel...  KRT10    K1C10   \n",
       ">sp|K1C9_HUMAN|(Common contaminant protein)             0  (Common   \n",
       ">sp|P35908|K22E_HUMAN Keratin, type II cytoskel...   KRT2     K22E   \n",
       ">sp|KRHB4_HUMAN|(Common contaminant protein)            0  (Common   "
      ]
     },
     "execution_count": 8,
     "metadata": {},
     "output_type": "execute_result"
    }
   ],
   "source": [
    "pd.set_option('display.max_columns', None)\n",
    "merged.head()"
   ]
  },
  {
   "cell_type": "code",
   "execution_count": 9,
   "metadata": {},
   "outputs": [
    {
     "data": {
      "text/plain": [
       "(141, 10)"
      ]
     },
     "execution_count": 9,
     "metadata": {},
     "output_type": "execute_result"
    }
   ],
   "source": [
    "merged.shape"
   ]
  },
  {
   "cell_type": "markdown",
   "metadata": {},
   "source": [
    "### Save a copy of the database before we clean it"
   ]
  },
  {
   "cell_type": "code",
   "execution_count": 10,
   "metadata": {},
   "outputs": [],
   "source": [
    "merged.to_csv('Data before filtering.csv')"
   ]
  },
  {
   "cell_type": "code",
   "execution_count": 11,
   "metadata": {},
   "outputs": [
    {
     "data": {
      "text/plain": [
       "Index(['Protein\\nDB number', '# AA's in\\nprotein', 'WT_0', 'WT_40', 'WT_80',\n",
       "       'Uniprot', 'uniprotgene', 'Protein', 'Gene', 'ugene'],\n",
       "      dtype='object')"
      ]
     },
     "execution_count": 11,
     "metadata": {},
     "output_type": "execute_result"
    }
   ],
   "source": [
    "merged.columns"
   ]
  },
  {
   "cell_type": "markdown",
   "metadata": {},
   "source": [
    "## Combine the data of genes that their reads where splitted into different isoforms and different annotations"
   ]
  },
  {
   "cell_type": "markdown",
   "metadata": {},
   "source": [
    "### Group by the UNIPROT GENE NAME - only the columns that contains the spectra counts"
   ]
  },
  {
   "cell_type": "code",
   "execution_count": 79,
   "metadata": {},
   "outputs": [],
   "source": [
    "exp_names=merged.columns.to_list()[3:-5]"
   ]
  },
  {
   "cell_type": "code",
   "execution_count": 80,
   "metadata": {},
   "outputs": [],
   "source": [
    "df_sum=merged.groupby(['uniprotgene'])[exp_names].sum()"
   ]
  },
  {
   "cell_type": "code",
   "execution_count": 81,
   "metadata": {},
   "outputs": [
    {
     "data": {
      "text/html": [
       "<div>\n",
       "<style scoped>\n",
       "    .dataframe tbody tr th:only-of-type {\n",
       "        vertical-align: middle;\n",
       "    }\n",
       "\n",
       "    .dataframe tbody tr th {\n",
       "        vertical-align: top;\n",
       "    }\n",
       "\n",
       "    .dataframe thead th {\n",
       "        text-align: right;\n",
       "    }\n",
       "</style>\n",
       "<table border=\"1\" class=\"dataframe\">\n",
       "  <thead>\n",
       "    <tr style=\"text-align: right;\">\n",
       "      <th></th>\n",
       "      <th>WT_0</th>\n",
       "      <th>WT_40</th>\n",
       "      <th>WT_80</th>\n",
       "    </tr>\n",
       "    <tr>\n",
       "      <th>uniprotgene</th>\n",
       "      <th></th>\n",
       "      <th></th>\n",
       "      <th></th>\n",
       "    </tr>\n",
       "  </thead>\n",
       "  <tbody>\n",
       "    <tr>\n",
       "      <th>(Common</th>\n",
       "      <td>481.0</td>\n",
       "      <td>116.0</td>\n",
       "      <td>106.0</td>\n",
       "    </tr>\n",
       "    <tr>\n",
       "      <th>A0A075B6N9_HUMAN</th>\n",
       "      <td>0.0</td>\n",
       "      <td>0.0</td>\n",
       "      <td>1.0</td>\n",
       "    </tr>\n",
       "    <tr>\n",
       "      <th>A0A0A0MSA7_HUMAN</th>\n",
       "      <td>0.0</td>\n",
       "      <td>0.0</td>\n",
       "      <td>8.0</td>\n",
       "    </tr>\n",
       "    <tr>\n",
       "      <th>A2KUC4_HUMAN</th>\n",
       "      <td>0.0</td>\n",
       "      <td>38.0</td>\n",
       "      <td>0.0</td>\n",
       "    </tr>\n",
       "    <tr>\n",
       "      <th>ABHEB_HUMAN</th>\n",
       "      <td>0.0</td>\n",
       "      <td>3.0</td>\n",
       "      <td>0.0</td>\n",
       "    </tr>\n",
       "  </tbody>\n",
       "</table>\n",
       "</div>"
      ],
      "text/plain": [
       "                    WT_0  WT_40  WT_80\n",
       "uniprotgene                           \n",
       "(Common            481.0  116.0  106.0\n",
       "A0A075B6N9_HUMAN     0.0    0.0    1.0\n",
       "A0A0A0MSA7_HUMAN     0.0    0.0    8.0\n",
       "A2KUC4_HUMAN         0.0   38.0    0.0\n",
       "ABHEB_HUMAN          0.0    3.0    0.0"
      ]
     },
     "execution_count": 81,
     "metadata": {},
     "output_type": "execute_result"
    }
   ],
   "source": [
    "df_sum.head()"
   ]
  },
  {
   "cell_type": "code",
   "execution_count": 28,
   "metadata": {},
   "outputs": [
    {
     "data": {
      "text/plain": [
       "(132, 3)"
      ]
     },
     "execution_count": 28,
     "metadata": {},
     "output_type": "execute_result"
    }
   ],
   "source": [
    "df_sum.shape"
   ]
  },
  {
   "cell_type": "code",
   "execution_count": 45,
   "metadata": {},
   "outputs": [],
   "source": [
    "merged=merged.reset_index()"
   ]
  },
  {
   "cell_type": "code",
   "execution_count": 46,
   "metadata": {},
   "outputs": [
    {
     "data": {
      "text/html": [
       "<div>\n",
       "<style scoped>\n",
       "    .dataframe tbody tr th:only-of-type {\n",
       "        vertical-align: middle;\n",
       "    }\n",
       "\n",
       "    .dataframe tbody tr th {\n",
       "        vertical-align: top;\n",
       "    }\n",
       "\n",
       "    .dataframe thead th {\n",
       "        text-align: right;\n",
       "    }\n",
       "</style>\n",
       "<table border=\"1\" class=\"dataframe\">\n",
       "  <thead>\n",
       "    <tr style=\"text-align: right;\">\n",
       "      <th></th>\n",
       "      <th>Description</th>\n",
       "      <th>Protein\\nDB number</th>\n",
       "      <th># AA's in\\nprotein</th>\n",
       "      <th>WT_0</th>\n",
       "      <th>WT_40</th>\n",
       "      <th>WT_80</th>\n",
       "      <th>Uniprot</th>\n",
       "      <th>uniprotgene</th>\n",
       "      <th>Protein</th>\n",
       "      <th>Gene</th>\n",
       "      <th>ugene</th>\n",
       "    </tr>\n",
       "  </thead>\n",
       "  <tbody>\n",
       "    <tr>\n",
       "      <th>0</th>\n",
       "      <td>&gt;sp|P04264|K2C1_HUMAN Keratin, type II cytoske...</td>\n",
       "      <td>17682.0</td>\n",
       "      <td>644.0</td>\n",
       "      <td>486.0</td>\n",
       "      <td>244.0</td>\n",
       "      <td>119.0</td>\n",
       "      <td>P04264</td>\n",
       "      <td>K2C1_HUMAN</td>\n",
       "      <td>Keratin, type II cytoskeletal 1 OS</td>\n",
       "      <td>KRT1</td>\n",
       "      <td>K2C1</td>\n",
       "    </tr>\n",
       "    <tr>\n",
       "      <th>1</th>\n",
       "      <td>&gt;sp|P13645|K1C10_HUMAN Keratin, type I cytoske...</td>\n",
       "      <td>18270.0</td>\n",
       "      <td>584.0</td>\n",
       "      <td>251.0</td>\n",
       "      <td>253.0</td>\n",
       "      <td>172.0</td>\n",
       "      <td>P13645</td>\n",
       "      <td>K1C10_HUMAN</td>\n",
       "      <td>Keratin, type I cytoskeletal 10 OS</td>\n",
       "      <td>KRT10</td>\n",
       "      <td>K1C10</td>\n",
       "    </tr>\n",
       "    <tr>\n",
       "      <th>2</th>\n",
       "      <td>&gt;sp|K1C9_HUMAN|(Common contaminant protein)</td>\n",
       "      <td>175619.0</td>\n",
       "      <td>623.0</td>\n",
       "      <td>227.0</td>\n",
       "      <td>0.0</td>\n",
       "      <td>0.0</td>\n",
       "      <td>K1C9_HUMAN</td>\n",
       "      <td>(Common</td>\n",
       "      <td>0</td>\n",
       "      <td>0</td>\n",
       "      <td>(Common</td>\n",
       "    </tr>\n",
       "    <tr>\n",
       "      <th>3</th>\n",
       "      <td>&gt;sp|P35908|K22E_HUMAN Keratin, type II cytoske...</td>\n",
       "      <td>17681.0</td>\n",
       "      <td>639.0</td>\n",
       "      <td>119.0</td>\n",
       "      <td>106.0</td>\n",
       "      <td>80.0</td>\n",
       "      <td>P35908</td>\n",
       "      <td>K22E_HUMAN</td>\n",
       "      <td>Keratin, type II cytoskeletal 2 epidermal OS</td>\n",
       "      <td>KRT2</td>\n",
       "      <td>K22E</td>\n",
       "    </tr>\n",
       "    <tr>\n",
       "      <th>4</th>\n",
       "      <td>&gt;sp|KRHB4_HUMAN|(Common contaminant protein)</td>\n",
       "      <td>175648.0</td>\n",
       "      <td>600.0</td>\n",
       "      <td>94.0</td>\n",
       "      <td>0.0</td>\n",
       "      <td>0.0</td>\n",
       "      <td>KRHB4_HUMAN</td>\n",
       "      <td>(Common</td>\n",
       "      <td>0</td>\n",
       "      <td>0</td>\n",
       "      <td>(Common</td>\n",
       "    </tr>\n",
       "  </tbody>\n",
       "</table>\n",
       "</div>"
      ],
      "text/plain": [
       "                                         Description  Protein\\nDB number  \\\n",
       "0  >sp|P04264|K2C1_HUMAN Keratin, type II cytoske...             17682.0   \n",
       "1  >sp|P13645|K1C10_HUMAN Keratin, type I cytoske...             18270.0   \n",
       "2        >sp|K1C9_HUMAN|(Common contaminant protein)            175619.0   \n",
       "3  >sp|P35908|K22E_HUMAN Keratin, type II cytoske...             17681.0   \n",
       "4       >sp|KRHB4_HUMAN|(Common contaminant protein)            175648.0   \n",
       "\n",
       "   # AA's in\\nprotein   WT_0  WT_40  WT_80      Uniprot   uniprotgene  \\\n",
       "0               644.0  486.0  244.0  119.0       P04264   K2C1_HUMAN    \n",
       "1               584.0  251.0  253.0  172.0       P13645  K1C10_HUMAN    \n",
       "2               623.0  227.0    0.0    0.0   K1C9_HUMAN      (Common    \n",
       "3               639.0  119.0  106.0   80.0       P35908   K22E_HUMAN    \n",
       "4               600.0   94.0    0.0    0.0  KRHB4_HUMAN      (Common    \n",
       "\n",
       "                                        Protein   Gene     ugene  \n",
       "0            Keratin, type II cytoskeletal 1 OS   KRT1     K2C1   \n",
       "1            Keratin, type I cytoskeletal 10 OS  KRT10    K1C10   \n",
       "2                                             0      0  (Common   \n",
       "3  Keratin, type II cytoskeletal 2 epidermal OS   KRT2     K22E   \n",
       "4                                             0      0  (Common   "
      ]
     },
     "execution_count": 46,
     "metadata": {},
     "output_type": "execute_result"
    }
   ],
   "source": [
    "merged.head()"
   ]
  },
  {
   "cell_type": "markdown",
   "metadata": {},
   "source": [
    "### Add the remaining descriptive columns"
   ]
  },
  {
   "cell_type": "code",
   "execution_count": 47,
   "metadata": {},
   "outputs": [
    {
     "data": {
      "text/plain": [
       "Index(['Description', 'Protein\\nDB number', '# AA's in\\nprotein', 'Protein',\n",
       "       'Gene', 'Uniprot', 'uniprotgene'],\n",
       "      dtype='object')"
      ]
     },
     "execution_count": 47,
     "metadata": {},
     "output_type": "execute_result"
    }
   ],
   "source": [
    "subset=merged[['Description','Protein\\nDB number', \"# AA's in\\nprotein\", 'Protein', 'Gene','Uniprot','uniprotgene']]\n",
    "subset.columns"
   ]
  },
  {
   "cell_type": "code",
   "execution_count": 48,
   "metadata": {},
   "outputs": [],
   "source": [
    "df_sum_all=pd.merge(df_sum, subset, how='left', on='uniprotgene' )"
   ]
  },
  {
   "cell_type": "code",
   "execution_count": 49,
   "metadata": {},
   "outputs": [
    {
     "data": {
      "text/html": [
       "<div>\n",
       "<style scoped>\n",
       "    .dataframe tbody tr th:only-of-type {\n",
       "        vertical-align: middle;\n",
       "    }\n",
       "\n",
       "    .dataframe tbody tr th {\n",
       "        vertical-align: top;\n",
       "    }\n",
       "\n",
       "    .dataframe thead th {\n",
       "        text-align: right;\n",
       "    }\n",
       "</style>\n",
       "<table border=\"1\" class=\"dataframe\">\n",
       "  <thead>\n",
       "    <tr style=\"text-align: right;\">\n",
       "      <th></th>\n",
       "      <th>uniprotgene</th>\n",
       "      <th>WT_0</th>\n",
       "      <th>WT_40</th>\n",
       "      <th>WT_80</th>\n",
       "      <th>Description</th>\n",
       "      <th>Protein\\nDB number</th>\n",
       "      <th># AA's in\\nprotein</th>\n",
       "      <th>Protein</th>\n",
       "      <th>Gene</th>\n",
       "      <th>Uniprot</th>\n",
       "    </tr>\n",
       "  </thead>\n",
       "  <tbody>\n",
       "    <tr>\n",
       "      <th>0</th>\n",
       "      <td>(Common</td>\n",
       "      <td>481.0</td>\n",
       "      <td>116.0</td>\n",
       "      <td>106.0</td>\n",
       "      <td>&gt;sp|K1C9_HUMAN|(Common contaminant protein)</td>\n",
       "      <td>175619.0</td>\n",
       "      <td>623.0</td>\n",
       "      <td>0</td>\n",
       "      <td>0</td>\n",
       "      <td>K1C9_HUMAN</td>\n",
       "    </tr>\n",
       "    <tr>\n",
       "      <th>1</th>\n",
       "      <td>(Common</td>\n",
       "      <td>481.0</td>\n",
       "      <td>116.0</td>\n",
       "      <td>106.0</td>\n",
       "      <td>&gt;sp|KRHB4_HUMAN|(Common contaminant protein)</td>\n",
       "      <td>175648.0</td>\n",
       "      <td>600.0</td>\n",
       "      <td>0</td>\n",
       "      <td>0</td>\n",
       "      <td>KRHB4_HUMAN</td>\n",
       "    </tr>\n",
       "    <tr>\n",
       "      <th>2</th>\n",
       "      <td>(Common</td>\n",
       "      <td>481.0</td>\n",
       "      <td>116.0</td>\n",
       "      <td>106.0</td>\n",
       "      <td>&gt;sp|TRYP_PIG|(Common contaminant protein)</td>\n",
       "      <td>175660.0</td>\n",
       "      <td>231.0</td>\n",
       "      <td>0</td>\n",
       "      <td>0</td>\n",
       "      <td>TRYP_PIG</td>\n",
       "    </tr>\n",
       "    <tr>\n",
       "      <th>3</th>\n",
       "      <td>(Common</td>\n",
       "      <td>481.0</td>\n",
       "      <td>116.0</td>\n",
       "      <td>106.0</td>\n",
       "      <td>&gt;sp|CAS1_BOVIN|(Common contaminant protein)</td>\n",
       "      <td>175678.0</td>\n",
       "      <td>214.0</td>\n",
       "      <td>0</td>\n",
       "      <td>0</td>\n",
       "      <td>CAS1_BOVIN</td>\n",
       "    </tr>\n",
       "    <tr>\n",
       "      <th>4</th>\n",
       "      <td>(Common</td>\n",
       "      <td>481.0</td>\n",
       "      <td>116.0</td>\n",
       "      <td>106.0</td>\n",
       "      <td>&gt;sp|CASB_BOVIN|(Common contaminant protein)</td>\n",
       "      <td>175680.0</td>\n",
       "      <td>224.0</td>\n",
       "      <td>0</td>\n",
       "      <td>0</td>\n",
       "      <td>CASB_BOVIN</td>\n",
       "    </tr>\n",
       "  </tbody>\n",
       "</table>\n",
       "</div>"
      ],
      "text/plain": [
       "  uniprotgene   WT_0  WT_40  WT_80  \\\n",
       "0    (Common   481.0  116.0  106.0   \n",
       "1    (Common   481.0  116.0  106.0   \n",
       "2    (Common   481.0  116.0  106.0   \n",
       "3    (Common   481.0  116.0  106.0   \n",
       "4    (Common   481.0  116.0  106.0   \n",
       "\n",
       "                                    Description  Protein\\nDB number  \\\n",
       "0   >sp|K1C9_HUMAN|(Common contaminant protein)            175619.0   \n",
       "1  >sp|KRHB4_HUMAN|(Common contaminant protein)            175648.0   \n",
       "2     >sp|TRYP_PIG|(Common contaminant protein)            175660.0   \n",
       "3   >sp|CAS1_BOVIN|(Common contaminant protein)            175678.0   \n",
       "4   >sp|CASB_BOVIN|(Common contaminant protein)            175680.0   \n",
       "\n",
       "   # AA's in\\nprotein Protein Gene      Uniprot  \n",
       "0               623.0       0    0   K1C9_HUMAN  \n",
       "1               600.0       0    0  KRHB4_HUMAN  \n",
       "2               231.0       0    0     TRYP_PIG  \n",
       "3               214.0       0    0   CAS1_BOVIN  \n",
       "4               224.0       0    0   CASB_BOVIN  "
      ]
     },
     "execution_count": 49,
     "metadata": {},
     "output_type": "execute_result"
    }
   ],
   "source": [
    "df_sum_all.head()"
   ]
  },
  {
   "cell_type": "code",
   "execution_count": 50,
   "metadata": {},
   "outputs": [],
   "source": [
    "df_sum_all.drop_duplicates(subset=['uniprotgene'], inplace=True) \n",
    "df_sum_all.reset_index(drop=True, inplace=True)"
   ]
  },
  {
   "cell_type": "markdown",
   "metadata": {},
   "source": [
    "### Now grouping by Gene name (not uniprot)"
   ]
  },
  {
   "cell_type": "code",
   "execution_count": 51,
   "metadata": {},
   "outputs": [],
   "source": [
    "df_sum_double=df_sum_all.groupby(['Gene'])[exp_names].sum()"
   ]
  },
  {
   "cell_type": "markdown",
   "metadata": {},
   "source": [
    "### Bring back the info columns we dropped before the grouping"
   ]
  },
  {
   "cell_type": "code",
   "execution_count": 52,
   "metadata": {},
   "outputs": [],
   "source": [
    "df_sum_double=pd.merge(df_sum_double, subset, how='left', on='Gene' )"
   ]
  },
  {
   "cell_type": "code",
   "execution_count": 53,
   "metadata": {},
   "outputs": [
    {
     "data": {
      "text/html": [
       "<div>\n",
       "<style scoped>\n",
       "    .dataframe tbody tr th:only-of-type {\n",
       "        vertical-align: middle;\n",
       "    }\n",
       "\n",
       "    .dataframe tbody tr th {\n",
       "        vertical-align: top;\n",
       "    }\n",
       "\n",
       "    .dataframe thead th {\n",
       "        text-align: right;\n",
       "    }\n",
       "</style>\n",
       "<table border=\"1\" class=\"dataframe\">\n",
       "  <thead>\n",
       "    <tr style=\"text-align: right;\">\n",
       "      <th></th>\n",
       "      <th>Gene</th>\n",
       "      <th>WT_0</th>\n",
       "      <th>WT_40</th>\n",
       "      <th>WT_80</th>\n",
       "      <th>Description</th>\n",
       "      <th>Protein\\nDB number</th>\n",
       "      <th># AA's in\\nprotein</th>\n",
       "      <th>Protein</th>\n",
       "      <th>Uniprot</th>\n",
       "      <th>uniprotgene</th>\n",
       "    </tr>\n",
       "  </thead>\n",
       "  <tbody>\n",
       "    <tr>\n",
       "      <th>0</th>\n",
       "      <td>0</td>\n",
       "      <td>500.0</td>\n",
       "      <td>155.0</td>\n",
       "      <td>121.0</td>\n",
       "      <td>&gt;sp|K1C9_HUMAN|(Common contaminant protein)</td>\n",
       "      <td>175619.0</td>\n",
       "      <td>623.0</td>\n",
       "      <td>0</td>\n",
       "      <td>K1C9_HUMAN</td>\n",
       "      <td>(Common</td>\n",
       "    </tr>\n",
       "    <tr>\n",
       "      <th>1</th>\n",
       "      <td>0</td>\n",
       "      <td>500.0</td>\n",
       "      <td>155.0</td>\n",
       "      <td>121.0</td>\n",
       "      <td>&gt;sp|KRHB4_HUMAN|(Common contaminant protein)</td>\n",
       "      <td>175648.0</td>\n",
       "      <td>600.0</td>\n",
       "      <td>0</td>\n",
       "      <td>KRHB4_HUMAN</td>\n",
       "      <td>(Common</td>\n",
       "    </tr>\n",
       "    <tr>\n",
       "      <th>2</th>\n",
       "      <td>0</td>\n",
       "      <td>500.0</td>\n",
       "      <td>155.0</td>\n",
       "      <td>121.0</td>\n",
       "      <td>&gt;sp|TRYP_PIG|(Common contaminant protein)</td>\n",
       "      <td>175660.0</td>\n",
       "      <td>231.0</td>\n",
       "      <td>0</td>\n",
       "      <td>TRYP_PIG</td>\n",
       "      <td>(Common</td>\n",
       "    </tr>\n",
       "    <tr>\n",
       "      <th>3</th>\n",
       "      <td>0</td>\n",
       "      <td>500.0</td>\n",
       "      <td>155.0</td>\n",
       "      <td>121.0</td>\n",
       "      <td>&gt;tr|B4DE59|B4DE59_HUMAN cDNA FLJ60424, highly ...</td>\n",
       "      <td>59366.0</td>\n",
       "      <td>563.0</td>\n",
       "      <td>cDNA FLJ60424, highly similar to Junction plak...</td>\n",
       "      <td>B4DE59</td>\n",
       "      <td>B4DE59_HUMAN</td>\n",
       "    </tr>\n",
       "    <tr>\n",
       "      <th>4</th>\n",
       "      <td>0</td>\n",
       "      <td>500.0</td>\n",
       "      <td>155.0</td>\n",
       "      <td>121.0</td>\n",
       "      <td>&gt;sp|CAS1_BOVIN|(Common contaminant protein)</td>\n",
       "      <td>175678.0</td>\n",
       "      <td>214.0</td>\n",
       "      <td>0</td>\n",
       "      <td>CAS1_BOVIN</td>\n",
       "      <td>(Common</td>\n",
       "    </tr>\n",
       "  </tbody>\n",
       "</table>\n",
       "</div>"
      ],
      "text/plain": [
       "  Gene   WT_0  WT_40  WT_80  \\\n",
       "0    0  500.0  155.0  121.0   \n",
       "1    0  500.0  155.0  121.0   \n",
       "2    0  500.0  155.0  121.0   \n",
       "3    0  500.0  155.0  121.0   \n",
       "4    0  500.0  155.0  121.0   \n",
       "\n",
       "                                         Description  Protein\\nDB number  \\\n",
       "0        >sp|K1C9_HUMAN|(Common contaminant protein)            175619.0   \n",
       "1       >sp|KRHB4_HUMAN|(Common contaminant protein)            175648.0   \n",
       "2          >sp|TRYP_PIG|(Common contaminant protein)            175660.0   \n",
       "3  >tr|B4DE59|B4DE59_HUMAN cDNA FLJ60424, highly ...             59366.0   \n",
       "4        >sp|CAS1_BOVIN|(Common contaminant protein)            175678.0   \n",
       "\n",
       "   # AA's in\\nprotein                                            Protein  \\\n",
       "0               623.0                                                  0   \n",
       "1               600.0                                                  0   \n",
       "2               231.0                                                  0   \n",
       "3               563.0  cDNA FLJ60424, highly similar to Junction plak...   \n",
       "4               214.0                                                  0   \n",
       "\n",
       "       Uniprot    uniprotgene  \n",
       "0   K1C9_HUMAN       (Common   \n",
       "1  KRHB4_HUMAN       (Common   \n",
       "2     TRYP_PIG       (Common   \n",
       "3       B4DE59  B4DE59_HUMAN   \n",
       "4   CAS1_BOVIN       (Common   "
      ]
     },
     "execution_count": 53,
     "metadata": {},
     "output_type": "execute_result"
    }
   ],
   "source": [
    "df_sum_double.head()"
   ]
  },
  {
   "cell_type": "markdown",
   "metadata": {},
   "source": [
    "Before mannualy annotation the size was 1546"
   ]
  },
  {
   "cell_type": "code",
   "execution_count": 54,
   "metadata": {},
   "outputs": [
    {
     "data": {
      "text/plain": [
       "(141, 10)"
      ]
     },
     "execution_count": 54,
     "metadata": {},
     "output_type": "execute_result"
    }
   ],
   "source": [
    "df_sum_double.shape"
   ]
  },
  {
   "cell_type": "code",
   "execution_count": 55,
   "metadata": {},
   "outputs": [],
   "source": [
    "df_sum_double.drop_duplicates(subset=['Gene'], inplace=True) \n",
    "df_sum_double.reset_index(drop=True, inplace=True)"
   ]
  },
  {
   "cell_type": "code",
   "execution_count": 56,
   "metadata": {},
   "outputs": [
    {
     "data": {
      "text/plain": [
       "(119, 10)"
      ]
     },
     "execution_count": 56,
     "metadata": {},
     "output_type": "execute_result"
    }
   ],
   "source": [
    "df_sum_double.shape"
   ]
  },
  {
   "cell_type": "markdown",
   "metadata": {},
   "source": [
    "1657-1442 = 215 gene isoforms were condensed"
   ]
  },
  {
   "cell_type": "code",
   "execution_count": 57,
   "metadata": {},
   "outputs": [
    {
     "data": {
      "text/html": [
       "<div>\n",
       "<style scoped>\n",
       "    .dataframe tbody tr th:only-of-type {\n",
       "        vertical-align: middle;\n",
       "    }\n",
       "\n",
       "    .dataframe tbody tr th {\n",
       "        vertical-align: top;\n",
       "    }\n",
       "\n",
       "    .dataframe thead th {\n",
       "        text-align: right;\n",
       "    }\n",
       "</style>\n",
       "<table border=\"1\" class=\"dataframe\">\n",
       "  <thead>\n",
       "    <tr style=\"text-align: right;\">\n",
       "      <th></th>\n",
       "      <th>Gene</th>\n",
       "      <th>WT_0</th>\n",
       "      <th>WT_40</th>\n",
       "      <th>WT_80</th>\n",
       "      <th>Description</th>\n",
       "      <th>Protein\\nDB number</th>\n",
       "      <th># AA's in\\nprotein</th>\n",
       "      <th>Protein</th>\n",
       "      <th>Uniprot</th>\n",
       "      <th>uniprotgene</th>\n",
       "    </tr>\n",
       "  </thead>\n",
       "  <tbody>\n",
       "    <tr>\n",
       "      <th>0</th>\n",
       "      <td>0</td>\n",
       "      <td>500.0</td>\n",
       "      <td>155.0</td>\n",
       "      <td>121.0</td>\n",
       "      <td>&gt;sp|K1C9_HUMAN|(Common contaminant protein)</td>\n",
       "      <td>175619.0</td>\n",
       "      <td>623.0</td>\n",
       "      <td>0</td>\n",
       "      <td>K1C9_HUMAN</td>\n",
       "      <td>(Common</td>\n",
       "    </tr>\n",
       "    <tr>\n",
       "      <th>1</th>\n",
       "      <td>ABHD14B</td>\n",
       "      <td>0.0</td>\n",
       "      <td>3.0</td>\n",
       "      <td>0.0</td>\n",
       "      <td>&gt;sp|Q96IU4|ABHEB_HUMAN Protein ABHD14B OS=Homo...</td>\n",
       "      <td>465.0</td>\n",
       "      <td>210.0</td>\n",
       "      <td>Protein ABHD14B OS</td>\n",
       "      <td>Q96IU4</td>\n",
       "      <td>ABHEB_HUMAN</td>\n",
       "    </tr>\n",
       "    <tr>\n",
       "      <th>2</th>\n",
       "      <td>ACACA</td>\n",
       "      <td>7.0</td>\n",
       "      <td>1.0</td>\n",
       "      <td>9.0</td>\n",
       "      <td>&gt;sp|Q13085|ACACA_HUMAN Acetyl-CoA carboxylase ...</td>\n",
       "      <td>562.0</td>\n",
       "      <td>2346.0</td>\n",
       "      <td>Acetyl-CoA carboxylase 1 OS</td>\n",
       "      <td>Q13085</td>\n",
       "      <td>ACACA_HUMAN</td>\n",
       "    </tr>\n",
       "    <tr>\n",
       "      <th>3</th>\n",
       "      <td>ACADVL</td>\n",
       "      <td>5.0</td>\n",
       "      <td>0.0</td>\n",
       "      <td>0.0</td>\n",
       "      <td>&gt;Reverse &gt;sp|P49748-3|ACADV_HUMAN Isoform 3 of...</td>\n",
       "      <td>176160.0</td>\n",
       "      <td>678.0</td>\n",
       "      <td>&gt;sp|P49748-3|ACADV_HUMAN Isoform 3 of Very lon...</td>\n",
       "      <td>P49748-3</td>\n",
       "      <td>ACADV_HUMAN</td>\n",
       "    </tr>\n",
       "    <tr>\n",
       "      <th>4</th>\n",
       "      <td>ACSBG1</td>\n",
       "      <td>3.0</td>\n",
       "      <td>0.0</td>\n",
       "      <td>5.0</td>\n",
       "      <td>&gt;Reverse &gt;sp|Q96GR2|ACBG1_HUMAN Long-chain-fat...</td>\n",
       "      <td>176162.0</td>\n",
       "      <td>724.0</td>\n",
       "      <td>&gt;sp|Q96GR2|ACBG1_HUMAN Long-chain-fatty-acid--...</td>\n",
       "      <td>Q96GR2</td>\n",
       "      <td>ACBG1_HUMAN</td>\n",
       "    </tr>\n",
       "  </tbody>\n",
       "</table>\n",
       "</div>"
      ],
      "text/plain": [
       "      Gene   WT_0  WT_40  WT_80  \\\n",
       "0        0  500.0  155.0  121.0   \n",
       "1  ABHD14B    0.0    3.0    0.0   \n",
       "2    ACACA    7.0    1.0    9.0   \n",
       "3   ACADVL    5.0    0.0    0.0   \n",
       "4   ACSBG1    3.0    0.0    5.0   \n",
       "\n",
       "                                         Description  Protein\\nDB number  \\\n",
       "0        >sp|K1C9_HUMAN|(Common contaminant protein)            175619.0   \n",
       "1  >sp|Q96IU4|ABHEB_HUMAN Protein ABHD14B OS=Homo...               465.0   \n",
       "2  >sp|Q13085|ACACA_HUMAN Acetyl-CoA carboxylase ...               562.0   \n",
       "3  >Reverse >sp|P49748-3|ACADV_HUMAN Isoform 3 of...            176160.0   \n",
       "4  >Reverse >sp|Q96GR2|ACBG1_HUMAN Long-chain-fat...            176162.0   \n",
       "\n",
       "   # AA's in\\nprotein                                            Protein  \\\n",
       "0               623.0                                                  0   \n",
       "1               210.0                                 Protein ABHD14B OS   \n",
       "2              2346.0                        Acetyl-CoA carboxylase 1 OS   \n",
       "3               678.0  >sp|P49748-3|ACADV_HUMAN Isoform 3 of Very lon...   \n",
       "4               724.0  >sp|Q96GR2|ACBG1_HUMAN Long-chain-fatty-acid--...   \n",
       "\n",
       "      Uniprot   uniprotgene  \n",
       "0  K1C9_HUMAN      (Common   \n",
       "1      Q96IU4  ABHEB_HUMAN   \n",
       "2      Q13085  ACACA_HUMAN   \n",
       "3    P49748-3  ACADV_HUMAN   \n",
       "4      Q96GR2  ACBG1_HUMAN   "
      ]
     },
     "execution_count": 57,
     "metadata": {},
     "output_type": "execute_result"
    }
   ],
   "source": [
    "df_sum_double.head()"
   ]
  },
  {
   "cell_type": "markdown",
   "metadata": {},
   "source": [
    "### Save the data with genes isoforms combined together"
   ]
  },
  {
   "cell_type": "code",
   "execution_count": 58,
   "metadata": {},
   "outputs": [],
   "source": [
    "df_sum_double.to_csv('Combined heatmap dat after grouping before dropping contaminants.csv')"
   ]
  },
  {
   "cell_type": "markdown",
   "metadata": {},
   "source": [
    "### Getting rid of all rows of the reverse dataset - junk"
   ]
  },
  {
   "cell_type": "code",
   "execution_count": 59,
   "metadata": {},
   "outputs": [
    {
     "data": {
      "text/plain": [
       "(88, 10)"
      ]
     },
     "execution_count": 59,
     "metadata": {},
     "output_type": "execute_result"
    }
   ],
   "source": [
    "non_reverse=~df_sum_double['Description'].str.contains('Reverse')\n",
    "df_sum_double= df_sum_double[non_reverse]\n",
    "df_sum_double.shape"
   ]
  },
  {
   "cell_type": "markdown",
   "metadata": {},
   "source": [
    "### Delete Keratin genes (contaminants)"
   ]
  },
  {
   "cell_type": "code",
   "execution_count": 60,
   "metadata": {},
   "outputs": [
    {
     "data": {
      "text/plain": [
       "(69, 10)"
      ]
     },
     "execution_count": 60,
     "metadata": {},
     "output_type": "execute_result"
    }
   ],
   "source": [
    "non_Keratin=~df_sum_double['Description'].str.contains('Keratin')\n",
    "df_sum_double= df_sum_double[non_Keratin]\n",
    "df_sum_double.shape"
   ]
  },
  {
   "cell_type": "code",
   "execution_count": 61,
   "metadata": {},
   "outputs": [],
   "source": [
    "df_sum_double.to_csv('Combined heatmap eIF2B clean.csv')"
   ]
  },
  {
   "cell_type": "markdown",
   "metadata": {},
   "source": [
    "## Annotate the genes using Uniprot"
   ]
  },
  {
   "cell_type": "code",
   "execution_count": 62,
   "metadata": {},
   "outputs": [],
   "source": [
    "from bioservices.uniprot import UniProt\n",
    "from bs4 import BeautifulSoup, Comment"
   ]
  },
  {
   "cell_type": "code",
   "execution_count": 63,
   "metadata": {},
   "outputs": [],
   "source": [
    "df_sum_double.set_index(['Uniprot'], inplace=True)"
   ]
  },
  {
   "cell_type": "markdown",
   "metadata": {},
   "source": [
    "### Get gene names"
   ]
  },
  {
   "cell_type": "code",
   "execution_count": 64,
   "metadata": {},
   "outputs": [
    {
     "data": {
      "text/plain": [
       "['K1C9_HUMAN',\n",
       " 'Q96IU4',\n",
       " 'Q13085',\n",
       " 'P60709',\n",
       " 'Q562R1',\n",
       " 'Q12802-2',\n",
       " 'Q5JQC9',\n",
       " 'P07355',\n",
       " 'P05089',\n",
       " 'Q13017']"
      ]
     },
     "execution_count": 64,
     "metadata": {},
     "output_type": "execute_result"
    }
   ],
   "source": [
    "uniprotids= df_sum_double.index.to_list()\n",
    "uniprotids[0:10]"
   ]
  },
  {
   "cell_type": "code",
   "execution_count": 65,
   "metadata": {},
   "outputs": [],
   "source": [
    "u = UniProt(verbose=False)"
   ]
  },
  {
   "cell_type": "code",
   "execution_count": 66,
   "metadata": {},
   "outputs": [
    {
     "data": {
      "text/html": [
       "<div>\n",
       "<style scoped>\n",
       "    .dataframe tbody tr th:only-of-type {\n",
       "        vertical-align: middle;\n",
       "    }\n",
       "\n",
       "    .dataframe tbody tr th {\n",
       "        vertical-align: top;\n",
       "    }\n",
       "\n",
       "    .dataframe thead th {\n",
       "        text-align: right;\n",
       "    }\n",
       "</style>\n",
       "<table border=\"1\" class=\"dataframe\">\n",
       "  <thead>\n",
       "    <tr style=\"text-align: right;\">\n",
       "      <th></th>\n",
       "      <th>Gene</th>\n",
       "      <th>WT_0</th>\n",
       "      <th>WT_40</th>\n",
       "      <th>WT_80</th>\n",
       "      <th>Description</th>\n",
       "      <th>Protein\\nDB number</th>\n",
       "      <th># AA's in\\nprotein</th>\n",
       "      <th>Protein</th>\n",
       "      <th>uniprotgene</th>\n",
       "      <th>Locations</th>\n",
       "      <th>Info</th>\n",
       "    </tr>\n",
       "    <tr>\n",
       "      <th>Uniprot</th>\n",
       "      <th></th>\n",
       "      <th></th>\n",
       "      <th></th>\n",
       "      <th></th>\n",
       "      <th></th>\n",
       "      <th></th>\n",
       "      <th></th>\n",
       "      <th></th>\n",
       "      <th></th>\n",
       "      <th></th>\n",
       "      <th></th>\n",
       "    </tr>\n",
       "  </thead>\n",
       "  <tbody>\n",
       "    <tr>\n",
       "      <th>K1C9_HUMAN</th>\n",
       "      <td>0</td>\n",
       "      <td>500.0</td>\n",
       "      <td>155.0</td>\n",
       "      <td>121.0</td>\n",
       "      <td>&gt;sp|K1C9_HUMAN|(Common contaminant protein)</td>\n",
       "      <td>175619.0</td>\n",
       "      <td>623.0</td>\n",
       "      <td>0</td>\n",
       "      <td>(Common</td>\n",
       "      <td></td>\n",
       "      <td></td>\n",
       "    </tr>\n",
       "    <tr>\n",
       "      <th>Q96IU4</th>\n",
       "      <td>ABHD14B</td>\n",
       "      <td>0.0</td>\n",
       "      <td>3.0</td>\n",
       "      <td>0.0</td>\n",
       "      <td>&gt;sp|Q96IU4|ABHEB_HUMAN Protein ABHD14B OS=Homo...</td>\n",
       "      <td>465.0</td>\n",
       "      <td>210.0</td>\n",
       "      <td>Protein ABHD14B OS</td>\n",
       "      <td>ABHEB_HUMAN</td>\n",
       "      <td></td>\n",
       "      <td></td>\n",
       "    </tr>\n",
       "    <tr>\n",
       "      <th>Q13085</th>\n",
       "      <td>ACACA</td>\n",
       "      <td>7.0</td>\n",
       "      <td>1.0</td>\n",
       "      <td>9.0</td>\n",
       "      <td>&gt;sp|Q13085|ACACA_HUMAN Acetyl-CoA carboxylase ...</td>\n",
       "      <td>562.0</td>\n",
       "      <td>2346.0</td>\n",
       "      <td>Acetyl-CoA carboxylase 1 OS</td>\n",
       "      <td>ACACA_HUMAN</td>\n",
       "      <td></td>\n",
       "      <td></td>\n",
       "    </tr>\n",
       "    <tr>\n",
       "      <th>P60709</th>\n",
       "      <td>ACTB</td>\n",
       "      <td>9.0</td>\n",
       "      <td>1.0</td>\n",
       "      <td>0.0</td>\n",
       "      <td>&gt;sp|P60709|ACTB_HUMAN Actin, cytoplasmic 1 OS=...</td>\n",
       "      <td>607.0</td>\n",
       "      <td>375.0</td>\n",
       "      <td>Actin, cytoplasmic 1 OS</td>\n",
       "      <td>ACTB_HUMAN</td>\n",
       "      <td></td>\n",
       "      <td></td>\n",
       "    </tr>\n",
       "    <tr>\n",
       "      <th>Q562R1</th>\n",
       "      <td>ACTBL2</td>\n",
       "      <td>0.0</td>\n",
       "      <td>0.0</td>\n",
       "      <td>2.0</td>\n",
       "      <td>&gt;sp|Q562R1|ACTBL_HUMAN Beta-actin-like protein...</td>\n",
       "      <td>1249.0</td>\n",
       "      <td>376.0</td>\n",
       "      <td>Beta-actin-like protein 2 OS</td>\n",
       "      <td>ACTBL_HUMAN</td>\n",
       "      <td></td>\n",
       "      <td></td>\n",
       "    </tr>\n",
       "  </tbody>\n",
       "</table>\n",
       "</div>"
      ],
      "text/plain": [
       "               Gene   WT_0  WT_40  WT_80  \\\n",
       "Uniprot                                    \n",
       "K1C9_HUMAN        0  500.0  155.0  121.0   \n",
       "Q96IU4      ABHD14B    0.0    3.0    0.0   \n",
       "Q13085        ACACA    7.0    1.0    9.0   \n",
       "P60709         ACTB    9.0    1.0    0.0   \n",
       "Q562R1       ACTBL2    0.0    0.0    2.0   \n",
       "\n",
       "                                                  Description  \\\n",
       "Uniprot                                                         \n",
       "K1C9_HUMAN        >sp|K1C9_HUMAN|(Common contaminant protein)   \n",
       "Q96IU4      >sp|Q96IU4|ABHEB_HUMAN Protein ABHD14B OS=Homo...   \n",
       "Q13085      >sp|Q13085|ACACA_HUMAN Acetyl-CoA carboxylase ...   \n",
       "P60709      >sp|P60709|ACTB_HUMAN Actin, cytoplasmic 1 OS=...   \n",
       "Q562R1      >sp|Q562R1|ACTBL_HUMAN Beta-actin-like protein...   \n",
       "\n",
       "            Protein\\nDB number  # AA's in\\nprotein  \\\n",
       "Uniprot                                              \n",
       "K1C9_HUMAN            175619.0               623.0   \n",
       "Q96IU4                   465.0               210.0   \n",
       "Q13085                   562.0              2346.0   \n",
       "P60709                   607.0               375.0   \n",
       "Q562R1                  1249.0               376.0   \n",
       "\n",
       "                                 Protein   uniprotgene Locations Info  \n",
       "Uniprot                                                                \n",
       "K1C9_HUMAN                             0      (Common                  \n",
       "Q96IU4                Protein ABHD14B OS  ABHEB_HUMAN                  \n",
       "Q13085       Acetyl-CoA carboxylase 1 OS  ACACA_HUMAN                  \n",
       "P60709           Actin, cytoplasmic 1 OS   ACTB_HUMAN                  \n",
       "Q562R1      Beta-actin-like protein 2 OS  ACTBL_HUMAN                  "
      ]
     },
     "execution_count": 66,
     "metadata": {},
     "output_type": "execute_result"
    }
   ],
   "source": [
    "df_sum_double['Locations']=''\n",
    "df_sum_double['Info']=''\n",
    "df_sum_double.head()"
   ]
  },
  {
   "cell_type": "markdown",
   "metadata": {},
   "source": [
    "### Add information + subcellular localization for each protein from Uniprot API"
   ]
  },
  {
   "cell_type": "code",
   "execution_count": 67,
   "metadata": {},
   "outputs": [
    {
     "name": "stdout",
     "output_type": "stream",
     "text": [
      "1 K1C9_HUMAN\n",
      "2 Q96IU4\n",
      "3 Q13085\n",
      "4 P60709\n",
      "5 Q562R1\n",
      "6 Q12802-2\n",
      "7 Q5JQC9\n",
      "8 P07355\n",
      "9 P05089\n",
      "10 Q13017\n",
      "11 P25311\n",
      "12 Q8NFC6\n",
      "13 P0C0L4\n",
      "14 Q9NZT1\n",
      "15 P31944\n",
      "16 Q9UGN4\n",
      "17 Q15517\n",
      "18 Q2VPA4\n",
      "19 L0R5A1\n",
      "20 Q8TB45\n",
      "21 A0PJE2-3\n",
      "22 Q8IY37\n",
      "23 Q6E0U4-2\n",
      "24 Q08554\n",
      "25 Q02413\n",
      "26 P15924\n",
      "27 Q4G0W2\n",
      "28 L8E9W3\n",
      "29 O95864\n",
      "30 Q9NUU6\n",
      "31 Q2V2M9\n",
      "32 P20930\n",
      "33 Q5D862\n",
      "34 Q8IVA8\n",
      "35 Q3KR37\n",
      "36 Q86XA9\n",
      "37 Q16778\n",
      "38 Q86YZ3\n",
      "39 Q4G0P3\n",
      "40 A0A075B6N9\n",
      "41 Q14643\n",
      "42 Q7L273\n",
      "43 Q96Q89\n",
      "44 Q6ZMV9\n",
      "45 P50748\n",
      "46 P47929\n",
      "47 P61626\n",
      "48 Q96RQ3\n",
      "49 Q02509\n",
      "50 P11498\n",
      "51 Q694B2\n",
      "52 Q2PPJ7\n",
      "53 B9EJE3\n",
      "54 P62241\n",
      "55 P31040\n",
      "56 Q9UHI5\n",
      "57 Q9BX66-12\n",
      "58 Q13813\n",
      "59 B4DGK4\n",
      "60 Q96C24\n",
      "61 O95759\n",
      "62 Q8NDV7\n",
      "63 Q71U36\n",
      "64 A6NHL2\n",
      "65 P10599\n",
      "66 P62987\n",
      "67 Q70CQ4\n",
      "68 P08670\n",
      "69 Q9H6S0\n"
     ]
    }
   ],
   "source": [
    "count=0\n",
    "for uniprotid in uniprotids:\n",
    "    count+= 1\n",
    "    print(count, uniprotid)\n",
    "    info_raw=u.search(uniprotid, frmt=\"xml\")\n",
    "    soup = BeautifulSoup(info_raw,'xml')\n",
    "    locs= soup.find_all('subcellularLocation')\n",
    "    loc_list=[]\n",
    "    evedents_list=[]\n",
    "    for loc in locs:\n",
    "        loc_list.append(str.strip(loc.get_text()))\n",
    "#         evedents_list.append(loc.location.attrs['evidence'])\n",
    "    df_sum_double.at[uniprotid,'Locations']= loc_list\n",
    "    info=soup.find('comment')\n",
    "    if info:\n",
    "        df_sum_double.at[uniprotid,'Info']= str.strip(info.text)"
   ]
  },
  {
   "cell_type": "code",
   "execution_count": 68,
   "metadata": {},
   "outputs": [
    {
     "data": {
      "text/html": [
       "<div>\n",
       "<style scoped>\n",
       "    .dataframe tbody tr th:only-of-type {\n",
       "        vertical-align: middle;\n",
       "    }\n",
       "\n",
       "    .dataframe tbody tr th {\n",
       "        vertical-align: top;\n",
       "    }\n",
       "\n",
       "    .dataframe thead th {\n",
       "        text-align: right;\n",
       "    }\n",
       "</style>\n",
       "<table border=\"1\" class=\"dataframe\">\n",
       "  <thead>\n",
       "    <tr style=\"text-align: right;\">\n",
       "      <th></th>\n",
       "      <th>Gene</th>\n",
       "      <th>WT_0</th>\n",
       "      <th>WT_40</th>\n",
       "      <th>WT_80</th>\n",
       "      <th>Description</th>\n",
       "      <th>Protein\\nDB number</th>\n",
       "      <th># AA's in\\nprotein</th>\n",
       "      <th>Protein</th>\n",
       "      <th>uniprotgene</th>\n",
       "      <th>Locations</th>\n",
       "      <th>Info</th>\n",
       "    </tr>\n",
       "    <tr>\n",
       "      <th>Uniprot</th>\n",
       "      <th></th>\n",
       "      <th></th>\n",
       "      <th></th>\n",
       "      <th></th>\n",
       "      <th></th>\n",
       "      <th></th>\n",
       "      <th></th>\n",
       "      <th></th>\n",
       "      <th></th>\n",
       "      <th></th>\n",
       "      <th></th>\n",
       "    </tr>\n",
       "  </thead>\n",
       "  <tbody>\n",
       "    <tr>\n",
       "      <th>K1C9_HUMAN</th>\n",
       "      <td>0</td>\n",
       "      <td>500.0</td>\n",
       "      <td>155.0</td>\n",
       "      <td>121.0</td>\n",
       "      <td>&gt;sp|K1C9_HUMAN|(Common contaminant protein)</td>\n",
       "      <td>175619.0</td>\n",
       "      <td>623.0</td>\n",
       "      <td>0</td>\n",
       "      <td>(Common</td>\n",
       "      <td>[]</td>\n",
       "      <td>May serve an important special function either...</td>\n",
       "    </tr>\n",
       "    <tr>\n",
       "      <th>Q96IU4</th>\n",
       "      <td>ABHD14B</td>\n",
       "      <td>0.0</td>\n",
       "      <td>3.0</td>\n",
       "      <td>0.0</td>\n",
       "      <td>&gt;sp|Q96IU4|ABHEB_HUMAN Protein ABHD14B OS=Homo...</td>\n",
       "      <td>465.0</td>\n",
       "      <td>210.0</td>\n",
       "      <td>Protein ABHD14B OS</td>\n",
       "      <td>ABHEB_HUMAN</td>\n",
       "      <td>[Cytoplasm, Nucleus]</td>\n",
       "      <td>Has hydrolase activity towards p-nitrophenyl b...</td>\n",
       "    </tr>\n",
       "    <tr>\n",
       "      <th>Q13085</th>\n",
       "      <td>ACACA</td>\n",
       "      <td>7.0</td>\n",
       "      <td>1.0</td>\n",
       "      <td>9.0</td>\n",
       "      <td>&gt;sp|Q13085|ACACA_HUMAN Acetyl-CoA carboxylase ...</td>\n",
       "      <td>562.0</td>\n",
       "      <td>2346.0</td>\n",
       "      <td>Acetyl-CoA carboxylase 1 OS</td>\n",
       "      <td>ACACA_HUMAN</td>\n",
       "      <td>[Cytoplasm\\nCytosol]</td>\n",
       "      <td>Cytosolic enzyme that catalyzes the carboxylat...</td>\n",
       "    </tr>\n",
       "    <tr>\n",
       "      <th>P60709</th>\n",
       "      <td>ACTB</td>\n",
       "      <td>9.0</td>\n",
       "      <td>1.0</td>\n",
       "      <td>0.0</td>\n",
       "      <td>&gt;sp|P60709|ACTB_HUMAN Actin, cytoplasmic 1 OS=...</td>\n",
       "      <td>607.0</td>\n",
       "      <td>375.0</td>\n",
       "      <td>Actin, cytoplasmic 1 OS</td>\n",
       "      <td>ACTB_HUMAN</td>\n",
       "      <td>[Cytoplasm\\nCytoskeleton, Nucleus]</td>\n",
       "      <td>Actin is a highly conserved protein that polym...</td>\n",
       "    </tr>\n",
       "    <tr>\n",
       "      <th>Q562R1</th>\n",
       "      <td>ACTBL2</td>\n",
       "      <td>0.0</td>\n",
       "      <td>0.0</td>\n",
       "      <td>2.0</td>\n",
       "      <td>&gt;sp|Q562R1|ACTBL_HUMAN Beta-actin-like protein...</td>\n",
       "      <td>1249.0</td>\n",
       "      <td>376.0</td>\n",
       "      <td>Beta-actin-like protein 2 OS</td>\n",
       "      <td>ACTBL_HUMAN</td>\n",
       "      <td>[Cytoplasm\\nCytoskeleton]</td>\n",
       "      <td>Actins are highly conserved proteins that are ...</td>\n",
       "    </tr>\n",
       "  </tbody>\n",
       "</table>\n",
       "</div>"
      ],
      "text/plain": [
       "               Gene   WT_0  WT_40  WT_80  \\\n",
       "Uniprot                                    \n",
       "K1C9_HUMAN        0  500.0  155.0  121.0   \n",
       "Q96IU4      ABHD14B    0.0    3.0    0.0   \n",
       "Q13085        ACACA    7.0    1.0    9.0   \n",
       "P60709         ACTB    9.0    1.0    0.0   \n",
       "Q562R1       ACTBL2    0.0    0.0    2.0   \n",
       "\n",
       "                                                  Description  \\\n",
       "Uniprot                                                         \n",
       "K1C9_HUMAN        >sp|K1C9_HUMAN|(Common contaminant protein)   \n",
       "Q96IU4      >sp|Q96IU4|ABHEB_HUMAN Protein ABHD14B OS=Homo...   \n",
       "Q13085      >sp|Q13085|ACACA_HUMAN Acetyl-CoA carboxylase ...   \n",
       "P60709      >sp|P60709|ACTB_HUMAN Actin, cytoplasmic 1 OS=...   \n",
       "Q562R1      >sp|Q562R1|ACTBL_HUMAN Beta-actin-like protein...   \n",
       "\n",
       "            Protein\\nDB number  # AA's in\\nprotein  \\\n",
       "Uniprot                                              \n",
       "K1C9_HUMAN            175619.0               623.0   \n",
       "Q96IU4                   465.0               210.0   \n",
       "Q13085                   562.0              2346.0   \n",
       "P60709                   607.0               375.0   \n",
       "Q562R1                  1249.0               376.0   \n",
       "\n",
       "                                 Protein   uniprotgene  \\\n",
       "Uniprot                                                  \n",
       "K1C9_HUMAN                             0      (Common    \n",
       "Q96IU4                Protein ABHD14B OS  ABHEB_HUMAN    \n",
       "Q13085       Acetyl-CoA carboxylase 1 OS  ACACA_HUMAN    \n",
       "P60709           Actin, cytoplasmic 1 OS   ACTB_HUMAN    \n",
       "Q562R1      Beta-actin-like protein 2 OS  ACTBL_HUMAN    \n",
       "\n",
       "                                     Locations  \\\n",
       "Uniprot                                          \n",
       "K1C9_HUMAN                                  []   \n",
       "Q96IU4                    [Cytoplasm, Nucleus]   \n",
       "Q13085                    [Cytoplasm\\nCytosol]   \n",
       "P60709      [Cytoplasm\\nCytoskeleton, Nucleus]   \n",
       "Q562R1               [Cytoplasm\\nCytoskeleton]   \n",
       "\n",
       "                                                         Info  \n",
       "Uniprot                                                        \n",
       "K1C9_HUMAN  May serve an important special function either...  \n",
       "Q96IU4      Has hydrolase activity towards p-nitrophenyl b...  \n",
       "Q13085      Cytosolic enzyme that catalyzes the carboxylat...  \n",
       "P60709      Actin is a highly conserved protein that polym...  \n",
       "Q562R1      Actins are highly conserved proteins that are ...  "
      ]
     },
     "execution_count": 68,
     "metadata": {},
     "output_type": "execute_result"
    }
   ],
   "source": [
    "df_sum_double.head()"
   ]
  },
  {
   "cell_type": "markdown",
   "metadata": {},
   "source": [
    "### Save the annotated data"
   ]
  },
  {
   "cell_type": "code",
   "execution_count": 70,
   "metadata": {},
   "outputs": [],
   "source": [
    "df_sum_double.to_csv('Combined heatmap  plus localization and description.csv')"
   ]
  },
  {
   "cell_type": "code",
   "execution_count": null,
   "metadata": {},
   "outputs": [],
   "source": []
  }
 ],
 "metadata": {
  "kernelspec": {
   "display_name": "Python 3",
   "language": "python",
   "name": "python3"
  },
  "language_info": {
   "codemirror_mode": {
    "name": "ipython",
    "version": 3
   },
   "file_extension": ".py",
   "mimetype": "text/x-python",
   "name": "python",
   "nbconvert_exporter": "python",
   "pygments_lexer": "ipython3",
   "version": "3.7.6"
  }
 },
 "nbformat": 4,
 "nbformat_minor": 2
}
